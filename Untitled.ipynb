{
 "cells": [
  {
   "cell_type": "code",
   "execution_count": 8,
   "metadata": {},
   "outputs": [
    {
     "data": {
      "text/plain": [
       "\u001b[32mimport \u001b[36mscala.math._\u001b[0m\n",
       "defined \u001b[32mobject \u001b[36mAngle\u001b[0m\n",
       "defined \u001b[32mclass \u001b[36mAngle\u001b[0m"
      ]
     },
     "metadata": {},
     "output_type": "display_data"
    }
   ],
   "source": [
    "import scala.math._\n",
    "\n",
    "object Angle {\n",
    "  def normVal(value: Double): Double = value match {\n",
    "    case value if value < 0.0 => value + 2 * Pi * Math.ceil(0.5 * abs(value) / Pi)\n",
    "    case value if value > 2 * Pi => value - 2 * Pi * Math.floor(0.5 * value / Pi)\n",
    "    case _ => value\n",
    "  }\n",
    "\n",
    "  lazy val dtrF = Pi / 180.0\n",
    "\n",
    "  lazy val rtdF = 180.0 / Pi\n",
    "\n",
    "  def fromDeg(deg: Double) = new Angle(dtrF * deg)\n",
    "//   def fromVal(value: Double) = new Angle(value)\n",
    "//   def fromDir(x: Double, y: Double) = new Angle(x, y)\n",
    "  def apply(value: Double) = new Angle(value)\n",
    "  def apply(x: Double, y: Double) = new Angle(x, y)\n",
    "}\n",
    "\n",
    "/**\n",
    " * Angle with value in range <0; 2*Pi). It is not appropriate to represent angle\n",
    " * increases, because they can have arbitrary value - positive or negative.\n",
    " * @author slawek\n",
    " */\n",
    "case class Angle(initX: Double, initY: Double, initValue: Double) {\n",
    "  import Angle._\n",
    "\n",
    "  lazy val value: Double = initValue match {\n",
    "    case 0 => (initX, initY) match {\n",
    "      case (0, 0) => 0\n",
    "      case (0, y) => if (y > 0) .5*Pi else 1.5*Pi\n",
    "      case (x, 0) => if (x > 0) 0 else Pi\n",
    "    }\n",
    "    case v => normVal(v)\n",
    "  }\n",
    "\n",
    "  lazy val x = (initX, initY) match {\n",
    "    case (0, 0) => cos(value)\n",
    "    case (x, _) => x / modulus\n",
    "  }\n",
    "\n",
    "  lazy val y = (initX, initY) match {\n",
    "    case (0, 0) => sin(value)\n",
    "    case (_, y) => y / modulus\n",
    "  }\n",
    "\n",
    "  lazy val modulus = sqrt(initX*initX + initY*initY)\n",
    "\n",
    "  lazy val unary_- = Angle(0, 0, 2*Pi - value)\n",
    "\n",
    "  /**\n",
    "   * Creates angle from vector (internally transforming it to a versor)\n",
    "   */\n",
    "  def this(initX: Double, initY: Double) = this(initX, initY, 0)\n",
    "\n",
    "  /**\n",
    "   * Creates angle from explicit value of angle (normalizing it if necessary).\n",
    "   */\n",
    "  def this(initValue: Double) = this(0, 0, initValue)\n",
    "\n",
    "  def +(other: Angle) = Angle(0, 0, value + other.value)\n",
    "  def +(other: Double) = Angle(0, 0, value + other)\n",
    "  def -(other: Angle) = Angle(0, 0, value - other.value)\n",
    "  def -(other: Double) = Angle(0, 0, value - other)\n",
    "  def *(factor: Double) = Angle(0, 0, factor * value)\n",
    "  // def normalize(value: Double): Angle = Angle(Angle.normVal(value))\n",
    "  // lazy val normVal: Double = Angle.normVal(value)\n",
    "  def toDeg = rtdF * value\n",
    "  // def opposite = Angle(0, 0, value + Pi)\n",
    "\n",
    "  /**\n",
    "   * Determines if this angle lies in a given range. Range spans from start to\n",
    "   * end in positive direction.\n",
    "   */\n",
    "  def between(start: Angle, end: Angle): Boolean = {\n",
    "    val sn = start.value\n",
    "    val en = start.value    \n",
    "    (sn <= en && value >= sn && value <= en) || (sn >= en && (value >= sn || value <= en))\n",
    "  }\n",
    "\n",
    "  def map(mapF: (Double) => Double) = Angle(0, 0, mapF(value))\n",
    "  def flatMap(fmapF: (Double) => Angle): Angle = fmapF(value)\n",
    "}"
   ]
  },
  {
   "cell_type": "code",
   "execution_count": 9,
   "metadata": {},
   "outputs": [
    {
     "data": {
      "text/plain": [
       "\u001b[36ma\u001b[0m: \u001b[32mAngle\u001b[0m = \u001b[33mAngle\u001b[0m(\u001b[32m0.0\u001b[0m, \u001b[32m0.0\u001b[0m, \u001b[32m2.0\u001b[0m)"
      ]
     },
     "metadata": {},
     "output_type": "display_data"
    }
   ],
   "source": [
    "val a = for {\n",
    "    x <- new Angle(1)    \n",
    "} yield x + 1.0"
   ]
  },
  {
   "cell_type": "code",
   "execution_count": 10,
   "metadata": {},
   "outputs": [
    {
     "data": {
      "text/plain": [
       "\u001b[36mres9\u001b[0m: \u001b[32mDouble\u001b[0m = \u001b[32m-0.4161468365471424\u001b[0m"
      ]
     },
     "metadata": {},
     "output_type": "display_data"
    }
   ],
   "source": [
    "a.x"
   ]
  },
  {
   "cell_type": "code",
   "execution_count": 11,
   "metadata": {},
   "outputs": [
    {
     "data": {
      "text/plain": [
       "\u001b[36mres10\u001b[0m: \u001b[32mDouble\u001b[0m = \u001b[32m0.9092974268256817\u001b[0m"
      ]
     },
     "metadata": {},
     "output_type": "display_data"
    }
   ],
   "source": [
    "a.y"
   ]
  },
  {
   "cell_type": "code",
   "execution_count": 14,
   "metadata": {},
   "outputs": [
    {
     "data": {
      "text/plain": [
       "\u001b[36mb\u001b[0m: \u001b[32mAngle\u001b[0m = \u001b[33mAngle\u001b[0m(\u001b[32m0.0\u001b[0m, \u001b[32m0.0\u001b[0m, \u001b[32m2.0\u001b[0m)"
      ]
     },
     "metadata": {},
     "output_type": "display_data"
    }
   ],
   "source": [
    "val b = Angle(2)"
   ]
  },
  {
   "cell_type": "code",
   "execution_count": 16,
   "metadata": {},
   "outputs": [
    {
     "data": {
      "text/plain": [
       "\u001b[36mres15\u001b[0m: \u001b[32mDouble\u001b[0m = \u001b[32m-0.4161468365471424\u001b[0m"
      ]
     },
     "metadata": {},
     "output_type": "display_data"
    }
   ],
   "source": [
    "b.x"
   ]
  },
  {
   "cell_type": "code",
   "execution_count": 22,
   "metadata": {},
   "outputs": [
    {
     "data": {
      "text/plain": [
       "\u001b[36mc\u001b[0m: \u001b[32mAngle\u001b[0m = \u001b[33mAngle\u001b[0m(\u001b[32m0.0\u001b[0m, \u001b[32m2.0\u001b[0m, \u001b[32m0.0\u001b[0m)"
      ]
     },
     "metadata": {},
     "output_type": "display_data"
    }
   ],
   "source": [
    "val c = Angle(0, 2)"
   ]
  },
  {
   "cell_type": "code",
   "execution_count": 19,
   "metadata": {},
   "outputs": [
    {
     "data": {
      "text/plain": [
       "\u001b[36mres18\u001b[0m: \u001b[32mDouble\u001b[0m = \u001b[32m1.0\u001b[0m"
      ]
     },
     "metadata": {},
     "output_type": "display_data"
    }
   ],
   "source": [
    "c.x"
   ]
  },
  {
   "cell_type": "code",
   "execution_count": 20,
   "metadata": {},
   "outputs": [
    {
     "data": {
      "text/plain": [
       "\u001b[36mres19\u001b[0m: \u001b[32mDouble\u001b[0m = \u001b[32m0.0\u001b[0m"
      ]
     },
     "metadata": {},
     "output_type": "display_data"
    }
   ],
   "source": [
    "c.y"
   ]
  },
  {
   "cell_type": "code",
   "execution_count": 23,
   "metadata": {},
   "outputs": [
    {
     "data": {
      "text/plain": [
       "\u001b[36mres22\u001b[0m: \u001b[32mDouble\u001b[0m = \u001b[32m1.5707963267948966\u001b[0m"
      ]
     },
     "metadata": {},
     "output_type": "display_data"
    }
   ],
   "source": [
    "c.value"
   ]
  },
  {
   "cell_type": "code",
   "execution_count": null,
   "metadata": {
    "collapsed": true
   },
   "outputs": [],
   "source": []
  }
 ],
 "metadata": {
  "kernelspec": {
   "display_name": "Scala 2.11",
   "language": "scala211",
   "name": "scala211"
  },
  "language_info": {
   "codemirror_mode": "text/x-scala",
   "file_extension": ".scala",
   "mimetype": "text/x-scala",
   "name": "scala211",
   "pygments_lexer": "scala",
   "version": "2.11.7"
  }
 },
 "nbformat": 4,
 "nbformat_minor": 2
}
