{
 "cells": [
  {
   "cell_type": "code",
   "execution_count": 1,
   "metadata": {
    "collapsed": true,
    "scrolled": true
   },
   "outputs": [],
   "source": [
    "interp.load.ivy((\"skac\", \"vgutils_2.12\", \"1.0.0-SNAPSHOT\"))"
   ]
  },
  {
   "cell_type": "code",
   "execution_count": 2,
   "metadata": {},
   "outputs": [
    {
     "data": {
      "text/plain": [
       "\u001b[32mimport \u001b[39m\u001b[36mcom.github.skac112.vgutils._\n",
       "\u001b[39m\n",
       "\u001b[32mimport \u001b[39m\u001b[36mcom.github.skac112.vgutils.MathUtils._\u001b[39m"
      ]
     },
     "execution_count": 2,
     "metadata": {},
     "output_type": "execute_result"
    }
   ],
   "source": [
    "import com.github.skac112.vgutils._\n",
    "import com.github.skac112.vgutils.MathUtils._"
   ]
  },
  {
   "cell_type": "code",
   "execution_count": 5,
   "metadata": {},
   "outputs": [
    {
     "data": {
      "text/plain": [
       "\u001b[36mres4\u001b[39m: \u001b[32mSet\u001b[39m[\u001b[32mPoint\u001b[39m] = \u001b[33mSet\u001b[39m(\u001b[33mPoint\u001b[39m(\u001b[32m2.7755575615628914E-16\u001b[39m, \u001b[32m-1.0\u001b[39m), \u001b[33mPoint\u001b[39m(\u001b[32m1.0\u001b[39m, \u001b[32m-2.7755575615628914E-16\u001b[39m))"
      ]
     },
     "execution_count": 5,
     "metadata": {},
     "output_type": "execute_result"
    }
   ],
   "source": [
    "c2i(Point(0, 0), 1, Point(1, -1), 1)"
   ]
  }
 ],
 "metadata": {
  "kernelspec": {
   "display_name": "Scala (develop)",
   "language": "scala",
   "name": "scala-develop"
  },
  "language_info": {
   "codemirror_mode": "text/x-scala",
   "file_extension": ".scala",
   "mimetype": "text/x-scala",
   "name": "scala212",
   "nbconvert_exporter": "script",
   "pygments_lexer": "scala",
   "version": "2.12.2"
  }
 },
 "nbformat": 4,
 "nbformat_minor": 2
}
