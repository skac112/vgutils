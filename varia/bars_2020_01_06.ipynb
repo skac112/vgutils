{
 "cells": [
  {
   "cell_type": "code",
   "execution_count": 1,
   "metadata": {
    "collapsed": true
   },
   "outputs": [],
   "source": [
    "interp.load.ivy((\"skac112\" %% \"miro\" % \"1.0.7-SNAPSHOT\"))\n",
    "interp.load.ivy((\"skac112\" %% \"fractalizer\" % \"0.5.1-SNAPSHOT\"))\n",
    "interp.load.ivy((\"skac112\" %% \"vgutils\" % \"0.1.0-SNAPSHOT\"))"
   ]
  },
  {
   "cell_type": "code",
   "execution_count": 2,
   "metadata": {},
   "outputs": [
    {
     "data": {
      "text/plain": [
       "\u001b[32mimport \u001b[39m\u001b[36mcom.github.skac112.fractalizer.examples._\n",
       "\u001b[39m\n",
       "\u001b[32mimport \u001b[39m\u001b[36mcom.github.skac112.miro.graphics._\n",
       "\u001b[39m\n",
       "\u001b[32mimport \u001b[39m\u001b[36mcom.github.skac112.miro.Graphic._\n",
       "\u001b[39m\n",
       "\u001b[32mimport \u001b[39m\u001b[36mcom.github.skac112.miro.draw.svg._\n",
       "\u001b[39m\n",
       "\u001b[32mimport \u001b[39m\u001b[36mcom.github.skac112.miro.attribs._\n",
       "\u001b[39m\n",
       "\u001b[32mimport \u001b[39m\u001b[36mcom.github.skac112.miro.attribs.colors._\n",
       "\u001b[39m\n",
       "\u001b[32mimport \u001b[39m\u001b[36mcom.github.skac112.miro._\n",
       "\u001b[39m\n",
       "\u001b[32mimport \u001b[39m\u001b[36mcom.github.skac112.fractalizer.nodes.partitioners._\n",
       "\u001b[39m\n",
       "\u001b[32mimport \u001b[39m\u001b[36mcom.github.skac112.fractalizer.nodes.partitioners.rectangles._\n",
       "\u001b[39m\n",
       "\u001b[32mimport \u001b[39m\u001b[36mcom.github.skac112.fractalizer.stylers.colorizers._\n",
       "\u001b[39m\n",
       "\u001b[32mimport \u001b[39m\u001b[36mcom.github.skac112.fractalizer.Node._\n",
       "\u001b[39m\n",
       "\u001b[32mimport \u001b[39m\u001b[36mcom.github.skac112.fractalizer._\n",
       "\u001b[39m\n",
       "\u001b[32mimport \u001b[39m\u001b[36mcom.github.skac112.fractalizer.Palette._\n",
       "\u001b[39m\n",
       "\u001b[32mimport \u001b[39m\u001b[36mcom.github.skac112.fractalizer.nodes._\n",
       "\u001b[39m\n",
       "\u001b[32mimport \u001b[39m\u001b[36mcom.github.skac112.fractalizer._\n",
       "\u001b[39m\n",
       "\u001b[32mimport \u001b[39m\u001b[36mcom.github.skac112.miro.graphics.compounds._\n",
       "\u001b[39m\n",
       "\u001b[32mimport \u001b[39m\u001b[36mscala.math._\n",
       "\u001b[39m\n",
       "\u001b[32mimport \u001b[39m\u001b[36mcom.github.skac112.vgutils._\u001b[39m"
      ]
     },
     "execution_count": 2,
     "metadata": {},
     "output_type": "execute_result"
    }
   ],
   "source": [
    "import com.github.skac112.fractalizer.examples._\n",
    "import com.github.skac112.miro.graphics._\n",
    "import com.github.skac112.miro.Graphic._\n",
    "import com.github.skac112.miro.draw.svg._\n",
    "import com.github.skac112.miro.attribs._\n",
    "import com.github.skac112.miro.attribs.colors._\n",
    "import com.github.skac112.miro._\n",
    "import com.github.skac112.fractalizer.nodes.partitioners._\n",
    "import com.github.skac112.fractalizer.nodes.partitioners.rectangles._\n",
    "import com.github.skac112.fractalizer.stylers.colorizers._\n",
    "import com.github.skac112.fractalizer.Node._\n",
    "import com.github.skac112.fractalizer._\n",
    "import com.github.skac112.fractalizer.Palette._\n",
    "import com.github.skac112.fractalizer.nodes._\n",
    "import com.github.skac112.fractalizer._\n",
    "import com.github.skac112.miro.graphics.compounds._\n",
    "import scala.math._\n",
    "import com.github.skac112.vgutils._"
   ]
  },
  {
   "cell_type": "code",
   "execution_count": 5,
   "metadata": {},
   "outputs": [
    {
     "name": "stdout",
     "output_type": "stream",
     "text": [
      "#357808\n"
     ]
    },
    {
     "data": {
      "text/plain": [
       "defined \u001b[32mobject\u001b[39m \u001b[36mExampleBars\u001b[39m\n",
       "\u001b[36mgp\u001b[39m: (\u001b[32mGroup\u001b[39m, \u001b[32mPoint\u001b[39m) = (\n",
       "  \u001b[33mGroup\u001b[39m(\n",
       "    \u001b[33mStream\u001b[39m(\n",
       "      (\n",
       "        \u001b[33mRect\u001b[39m(\n",
       "          \u001b[32m0.19865218820308392\u001b[39m,\n",
       "          \u001b[32m100.0\u001b[39m,\n",
       "          \u001b[32m0.0\u001b[39m,\n",
       "          \u001b[33mGenericAttribs\u001b[39m(\n",
       "            \u001b[33mSome\u001b[39m(\n",
       "              \u001b[33mColor\u001b[39m(\n",
       "                \u001b[32m0.019323911424031268\u001b[39m,\n",
       "                \u001b[32m0.06401168716983154\u001b[39m,\n",
       "                \u001b[32m0.05339292758295171\u001b[39m,\n",
       "                \u001b[32m1.0\u001b[39m\n",
       "              )\n",
       "            ),\n",
       "            \u001b[32mNone\u001b[39m,\n",
       "            \u001b[32mNone\u001b[39m\n",
       "          )\n",
       "        ),\n",
       "        \u001b[33mPoint\u001b[39m(\u001b[32m100.0\u001b[39m, \u001b[32m100.0\u001b[39m)\n",
       "      ),\n",
       "      (\n",
       "        \u001b[33mRect\u001b[39m(\n",
       "          \u001b[32m0.7066479027266839\u001b[39m,\n",
       "          \u001b[32m100.0\u001b[39m,\n",
       "          \u001b[32m0.0\u001b[39m,\n",
       "          \u001b[33mGenericAttribs\u001b[39m(\n",
       "            \u001b[33mSome\u001b[39m(\n",
       "              \u001b[33mColor\u001b[39m(\n",
       "                \u001b[32m0.0994907788609139\u001b[39m,\n",
       "                \u001b[32m0.22619444378131837\u001b[39m,\n",
       "                \u001b[32m0.08999335581258171\u001b[39m,\n",
       "                \u001b[32m1.0\u001b[39m\n",
       "              )\n",
       "            ),\n",
       "            \u001b[32mNone\u001b[39m,\n",
       "            \u001b[32mNone\u001b[39m\n",
       "...\n",
       "\u001b[36md\u001b[39m: \u001b[32mDraw\u001b[39m = com.github.skac112.miro.draw.svg.Draw@1548090f"
      ]
     },
     "execution_count": 5,
     "metadata": {},
     "output_type": "execute_result"
    }
   ],
   "source": [
    "object ExampleBars {\n",
    "  def group = {\n",
    "    val r = (Rect(100, 100), Point(100.0, 100.0))\n",
    "    val part = Partition.random(100, -4)\n",
    "    val base_color = Color(.7*76.0/255.0, .7*171.0/255.0, .7*12.0/255.0)   \n",
    "    println(base_color)  \n",
    "    val styler = Selected(Palette.randSimHsl(base_color, 35, 0.8, .4, .3))\n",
    "    val repl = Bars(part, 'SIDETYPE_WIDTH, Some(styler))\n",
    "    val out = repl(Seq(r)).run._2\n",
    "    Group(out)\n",
    "  }\n",
    "}\n",
    "    \n",
    "val gp = (ExampleBars.group, Point(100, 300))\n",
    "val d = new Draw()\n",
    "d.saveToFile(gp, \"drawings/bars10.svg\")"
   ]
  },
  {
   "cell_type": "code",
   "execution_count": null,
   "metadata": {
    "collapsed": true
   },
   "outputs": [],
   "source": []
  }
 ],
 "metadata": {
  "kernelspec": {
   "display_name": "Scala",
   "language": "scala",
   "name": "scala"
  },
  "language_info": {
   "codemirror_mode": "text/x-scala",
   "file_extension": ".scala",
   "mimetype": "text/x-scala",
   "name": "scala",
   "nbconvert_exporter": "script",
   "version": "2.12.9"
  }
 },
 "nbformat": 4,
 "nbformat_minor": 2
}
